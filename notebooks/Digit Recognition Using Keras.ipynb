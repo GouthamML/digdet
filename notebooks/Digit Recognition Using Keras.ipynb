{
 "cells": [
  {
   "cell_type": "markdown",
   "metadata": {},
   "source": [
    "# Digit Recognition Using Keras"
   ]
  },
  {
   "cell_type": "code",
   "execution_count": 1,
   "metadata": {
    "collapsed": true
   },
   "outputs": [],
   "source": [
    "import warnings\n",
    "\n",
    "warnings.filterwarnings('ignore')"
   ]
  },
  {
   "cell_type": "markdown",
   "metadata": {},
   "source": [
    "## Dependencies"
   ]
  },
  {
   "cell_type": "markdown",
   "metadata": {},
   "source": [
    "For faster training, if your system consists of an NVIDIA GPU, you can install **CUDA** and **CuDNN**."
   ]
  },
  {
   "cell_type": "code",
   "execution_count": null,
   "metadata": {},
   "outputs": [],
   "source": [
    "HAS_CUDA_CUDNN  = input('CUDA and CuDNN installed? (y/n): ') == 'y'"
   ]
  },
  {
   "cell_type": "markdown",
   "metadata": {},
   "source": [
    "#### Keras Backend"
   ]
  },
  {
   "cell_type": "code",
   "execution_count": null,
   "metadata": {},
   "outputs": [],
   "source": [
    "KERAS_BACKEND   = input('Keras Backend?: (theano / tensorflow): ')"
   ]
  },
  {
   "cell_type": "code",
   "execution_count": null,
   "metadata": {
    "collapsed": true
   },
   "outputs": [],
   "source": [
    "if KERAS_BACKEND == 'theano':\n",
    "    KERAS_BACKEND = 'Theano'\n",
    "else:\n",
    "    if HAS_CUDA_CUDNN:\n",
    "        KERAS_BACKEND = 'tensorflow-gpu'\n",
    "    else:\n",
    "        KERAS_BACKEND = 'tensorflow'"
   ]
  },
  {
   "cell_type": "code",
   "execution_count": null,
   "metadata": {},
   "outputs": [],
   "source": [
    "DEPENDENCIES    = [\n",
    "    'numpy',\n",
    "    'scipy',\n",
    "    'scikit-learn',\n",
    "    'matplotlib',\n",
    "    'keras',\n",
    "    KERAS_BACKEND,\n",
    "    'h5py',\n",
    "    'cython'\n",
    "]\n",
    "\n",
    "import pip\n",
    "\n",
    "for dependency in DEPENDENCIES:\n",
    "    pip.main(['install', dependency])"
   ]
  },
  {
   "cell_type": "markdown",
   "metadata": {},
   "source": [
    "## Visualization"
   ]
  },
  {
   "cell_type": "code",
   "execution_count": 2,
   "metadata": {},
   "outputs": [],
   "source": [
    "import numpy as np\n",
    "\n",
    "import matplotlib.pyplot as pplt\n",
    "import matplotlib.cm     as cmap\n",
    "\n",
    "pplt.style.use('seaborn')\n",
    "\n",
    "% matplotlib inline"
   ]
  },
  {
   "cell_type": "code",
   "execution_count": 3,
   "metadata": {
    "collapsed": true
   },
   "outputs": [],
   "source": [
    "def plot(x):\n",
    "    nsamples = len(x)\n",
    "    nplots   = 4\n",
    "    \n",
    "    for i in range(nplots):\n",
    "        pplt.subplot(220 + (i + 1))\n",
    "        \n",
    "        index  = np.random.randint(0, nsamples)\n",
    "        sample = Xtrain[index]\n",
    "        \n",
    "        pplt.imshow(sample, cmap = cmap.gray)"
   ]
  },
  {
   "cell_type": "markdown",
   "metadata": {},
   "source": [
    "## Preprocessing"
   ]
  },
  {
   "cell_type": "markdown",
   "metadata": {},
   "source": [
    "### Flattening"
   ]
  },
  {
   "cell_type": "code",
   "execution_count": 4,
   "metadata": {
    "collapsed": true
   },
   "outputs": [],
   "source": [
    "def flatten(x, dtype = np.uint8):\n",
    "    nsamples, width, height = x.shape\n",
    "    ncols = width * height\n",
    "    \n",
    "    x     = x.reshape(nsamples, ncols).astype(dtype)\n",
    "    \n",
    "    return x"
   ]
  },
  {
   "cell_type": "markdown",
   "metadata": {},
   "source": [
    "### Normalization"
   ]
  },
  {
   "cell_type": "code",
   "execution_count": 5,
   "metadata": {
    "collapsed": true
   },
   "outputs": [],
   "source": [
    "from sklearn.preprocessing import MinMaxScaler"
   ]
  },
  {
   "cell_type": "code",
   "execution_count": 6,
   "metadata": {
    "collapsed": true
   },
   "outputs": [],
   "source": [
    "def normalize(x, *args, **kwargs):\n",
    "    scaler = MinMaxScaler(*args, **kwargs)\n",
    "    \n",
    "    scaled = scaler.fit_transform(x)\n",
    "    \n",
    "    return scaled"
   ]
  },
  {
   "cell_type": "markdown",
   "metadata": {},
   "source": [
    "### Encoding"
   ]
  },
  {
   "cell_type": "code",
   "execution_count": 7,
   "metadata": {},
   "outputs": [
    {
     "name": "stderr",
     "output_type": "stream",
     "text": [
      "Using TensorFlow backend.\n"
     ]
    }
   ],
   "source": [
    "from keras.utils import np_utils"
   ]
  },
  {
   "cell_type": "code",
   "execution_count": 8,
   "metadata": {
    "collapsed": true
   },
   "outputs": [],
   "source": [
    "def one_hot(x):\n",
    "    encoded = np_utils.to_categorical(x)\n",
    "    \n",
    "    return encoded"
   ]
  },
  {
   "cell_type": "markdown",
   "metadata": {},
   "source": [
    "## Modelling"
   ]
  },
  {
   "cell_type": "code",
   "execution_count": 9,
   "metadata": {
    "collapsed": true
   },
   "outputs": [],
   "source": [
    "from keras.models import Sequential\n",
    "from keras.layers import Dense"
   ]
  },
  {
   "cell_type": "code",
   "execution_count": 10,
   "metadata": {
    "collapsed": true
   },
   "outputs": [],
   "source": [
    "def get_layers(X, y, hidden):\n",
    "    ninp   = X.shape[1]\n",
    "    nout   = y.shape[1]\n",
    "    \n",
    "    layers = [ninp] + hidden + [nout]\n",
    "    \n",
    "    return layers"
   ]
  },
  {
   "cell_type": "code",
   "execution_count": 11,
   "metadata": {
    "collapsed": true
   },
   "outputs": [],
   "source": [
    "def get_model(layers, config):\n",
    "    model = Sequential()\n",
    "    \n",
    "    model.add(Dense(layers[ 1], input_shape = (layers[0],), kernel_initializer = 'normal', activation = 'relu'))\n",
    "    \n",
    "    for i in range(2, len(layers) - 1):\n",
    "        model.add(Dense(layers[i], activation = 'relu'))\n",
    "        \n",
    "    model.add(Dense(layers[-1], activation = 'softmax'))\n",
    "    \n",
    "    model.compile(**config)\n",
    "    \n",
    "    return model"
   ]
  },
  {
   "cell_type": "markdown",
   "metadata": {},
   "source": [
    "## Training"
   ]
  },
  {
   "cell_type": "code",
   "execution_count": 12,
   "metadata": {
    "collapsed": true
   },
   "outputs": [],
   "source": [
    "def fit(model, Xtrain, ytrain, Xtest, ytest, *args, **kwargs):\n",
    "    history = model.fit(Xtrain, ytrain, validation_data = (Xtest, ytest), *args, **kwargs)\n",
    "    \n",
    "    fig, axes = pplt.subplots(2)\n",
    "    fig.set_size_inches(20, 15)\n",
    "    \n",
    "    axes[0].plot(history.history['acc'])\n",
    "    axes[0].plot(history.history['val_acc'])\n",
    "    axes[0].set_xlabel('$epoch$')\n",
    "    axes[0].set_ylabel('$accuracy$')\n",
    "    axes[0].legend(['$train$', '$test$'])\n",
    "    \n",
    "    axes[1].plot(history.history['acc'])\n",
    "    axes[1].plot(history.history['val_loss'])\n",
    "    axes[1].set_xlabel('$epoch$')\n",
    "    axes[1].set_ylabel('$loss$')\n",
    "    axes[1].legend(['$train$', '$test$'])\n",
    "    \n",
    "    return axes, model"
   ]
  },
  {
   "cell_type": "markdown",
   "metadata": {},
   "source": [
    "## Deployment"
   ]
  },
  {
   "cell_type": "code",
   "execution_count": 13,
   "metadata": {
    "collapsed": true
   },
   "outputs": [],
   "source": [
    "import os, json, errno\n",
    "\n",
    "RELPATH_DATA   = 'data'\n",
    "RELPATH_MODELS = os.path.join(RELPATH_DATA, 'models')\n",
    "\n",
    "def makedirs(path, ignore_exists = False):\n",
    "    try:\n",
    "        os.makedirs(path)\n",
    "    except OSError as e:\n",
    "        if e.errno == errno.EEXIST:\n",
    "            if not ignore_exists:\n",
    "                raise e\n",
    "        else:\n",
    "            raise e\n",
    "            \n",
    "makedirs(RELPATH_MODELS, ignore_exists = True)"
   ]
  },
  {
   "cell_type": "code",
   "execution_count": 14,
   "metadata": {
    "collapsed": true
   },
   "outputs": [],
   "source": [
    "def save(dirname, model, config):\n",
    "    RELPATH_DIR = os.path.join(RELPATH_MODELS, dirname)\n",
    "    \n",
    "    makedirs(RELPATH_DIR, ignore_exists = True)\n",
    "    \n",
    "    json_       = model.to_json()\n",
    "\n",
    "    with open(os.path.join(RELPATH_DIR, 'model.json'), 'w') as f:\n",
    "        f.write(json_)\n",
    "        \n",
    "    model.save_weights(os.path.join(RELPATH_DIR, 'model.h5'))\n",
    "    \n",
    "    with open(os.path.join(RELPATH_DIR, 'config.json'), 'w') as f:\n",
    "        json.dump(config, f)"
   ]
  },
  {
   "cell_type": "markdown",
   "metadata": {},
   "source": [
    "# MNIST\n",
    "> English"
   ]
  },
  {
   "cell_type": "markdown",
   "metadata": {},
   "source": [
    "### Loading"
   ]
  },
  {
   "cell_type": "code",
   "execution_count": 15,
   "metadata": {},
   "outputs": [],
   "source": [
    "from keras.datasets import mnist"
   ]
  },
  {
   "cell_type": "code",
   "execution_count": 16,
   "metadata": {
    "collapsed": true
   },
   "outputs": [],
   "source": [
    "(Xtrain, ytrain), (Xtest, ytest) = mnist.load_data()"
   ]
  },
  {
   "cell_type": "markdown",
   "metadata": {},
   "source": [
    "### Visualization"
   ]
  },
  {
   "cell_type": "code",
   "execution_count": 17,
   "metadata": {},
   "outputs": [
    {
     "data": {
      "image/png": "[encoded data removed]",
      "text/plain": [
       "<matplotlib.figure.Figure at 0x7f0879f00940>"
      ]
     },
     "metadata": {},
     "output_type": "display_data"
    }
   ],
   "source": [
    "plot(Xtrain)"
   ]
  },
  {
   "cell_type": "markdown",
   "metadata": {},
   "source": [
    "### Preprocessing"
   ]
  },
  {
   "cell_type": "markdown",
   "metadata": {},
   "source": [
    "#### Flattening"
   ]
  },
  {
   "cell_type": "code",
   "execution_count": 18,
   "metadata": {},
   "outputs": [],
   "source": [
    "Xtrain, Xtest = flatten(Xtrain), flatten(Xtest)"
   ]
  },
  {
   "cell_type": "markdown",
   "metadata": {},
   "source": [
    "#### Normalization"
   ]
  },
  {
   "cell_type": "code",
   "execution_count": 19,
   "metadata": {},
   "outputs": [],
   "source": [
    "Xtrain, Xtest = normalize(Xtrain), normalize(Xtest)"
   ]
  },
  {
   "cell_type": "markdown",
   "metadata": {},
   "source": [
    "#### Encoding"
   ]
  },
  {
   "cell_type": "code",
   "execution_count": 20,
   "metadata": {
    "collapsed": true,
    "scrolled": true
   },
   "outputs": [],
   "source": [
    "ytrain, ytest = one_hot(ytrain), one_hot(ytest)"
   ]
  },
  {
   "cell_type": "markdown",
   "metadata": {},
   "source": [
    "### Modelling"
   ]
  },
  {
   "cell_type": "code",
   "execution_count": 21,
   "metadata": {},
   "outputs": [],
   "source": [
    "layers = get_layers(Xtrain, ytrain, [512, 512])\n",
    "config = { \"loss\": \"categorical_crossentropy\", \"optimizer\": \"adam\", \"metrics\": [\"accuracy\"] }"
   ]
  },
  {
   "cell_type": "code",
   "execution_count": 22,
   "metadata": {},
   "outputs": [
    {
     "name": "stdout",
     "output_type": "stream",
     "text": [
      "_________________________________________________________________\n",
      "Layer (type)                 Output Shape              Param #   \n",
      "=================================================================\n",
      "dense_1 (Dense)              (None, 512)               401920    \n",
      "_________________________________________________________________\n",
      "dense_2 (Dense)              (None, 512)               262656    \n",
      "_________________________________________________________________\n",
      "dense_3 (Dense)              (None, 10)                5130      \n",
      "=================================================================\n",
      "Total params: 669,706\n",
      "Trainable params: 669,706\n",
      "Non-trainable params: 0\n",
      "_________________________________________________________________\n"
     ]
    }
   ],
   "source": [
    "model  = get_model(layers, config)\n",
    "model.summary()"
   ]
  },
  {
   "cell_type": "markdown",
   "metadata": {},
   "source": [
    "### Training"
   ]
  },
  {
   "cell_type": "code",
   "execution_count": 23,
   "metadata": {
    "collapsed": true
   },
   "outputs": [],
   "source": [
    "batch_size  = 128\n",
    "nepochs     = 20"
   ]
  },
  {
   "cell_type": "code",
   "execution_count": 24,
   "metadata": {},
   "outputs": [
    {
     "name": "stdout",
     "output_type": "stream",
     "text": [
      "Train on 60000 samples, validate on 10000 samples\n",
      "Epoch 1/20\n",
      "60000/60000 [==============================] - 3s - loss: 0.2160 - acc: 0.9362 - val_loss: 0.1225 - val_acc: 0.9603\n",
      "Epoch 2/20\n",
      "60000/60000 [==============================] - 3s - loss: 0.0787 - acc: 0.9756 - val_loss: 0.0816 - val_acc: 0.9744\n",
      "Epoch 3/20\n",
      "60000/60000 [==============================] - 3s - loss: 0.0490 - acc: 0.9847 - val_loss: 0.0662 - val_acc: 0.9795\n",
      "Epoch 4/20\n",
      "60000/60000 [==============================] - 3s - loss: 0.0349 - acc: 0.9883 - val_loss: 0.0699 - val_acc: 0.9789\n",
      "Epoch 5/20\n",
      "60000/60000 [==============================] - 3s - loss: 0.0262 - acc: 0.9914 - val_loss: 0.1033 - val_acc: 0.9727\n",
      "Epoch 6/20\n",
      "60000/60000 [==============================] - 3s - loss: 0.0206 - acc: 0.9935 - val_loss: 0.0828 - val_acc: 0.9774\n",
      "Epoch 7/20\n",
      "60000/60000 [==============================] - 3s - loss: 0.0156 - acc: 0.9949 - val_loss: 0.0828 - val_acc: 0.9792\n",
      "Epoch 8/20\n",
      "60000/60000 [==============================] - 3s - loss: 0.0168 - acc: 0.9942 - val_loss: 0.0851 - val_acc: 0.9783\n",
      "Epoch 9/20\n",
      "60000/60000 [==============================] - 3s - loss: 0.0185 - acc: 0.9939 - val_loss: 0.0769 - val_acc: 0.9819\n",
      "Epoch 10/20\n",
      "60000/60000 [==============================] - 3s - loss: 0.0102 - acc: 0.9967 - val_loss: 0.0904 - val_acc: 0.9808\n",
      "Epoch 11/20\n",
      "60000/60000 [==============================] - 3s - loss: 0.0123 - acc: 0.9962 - val_loss: 0.0895 - val_acc: 0.9807\n",
      "Epoch 12/20\n",
      "60000/60000 [==============================] - 3s - loss: 0.0142 - acc: 0.9953 - val_loss: 0.0897 - val_acc: 0.9808\n",
      "Epoch 13/20\n",
      "60000/60000 [==============================] - 3s - loss: 0.0083 - acc: 0.9974 - val_loss: 0.1033 - val_acc: 0.9800\n",
      "Epoch 14/20\n",
      "60000/60000 [==============================] - 3s - loss: 0.0113 - acc: 0.9963 - val_loss: 0.1022 - val_acc: 0.9799\n",
      "Epoch 15/20\n",
      "60000/60000 [==============================] - 3s - loss: 0.0084 - acc: 0.9974 - val_loss: 0.0964 - val_acc: 0.9803\n",
      "Epoch 16/20\n",
      "60000/60000 [==============================] - 3s - loss: 0.0113 - acc: 0.9963 - val_loss: 0.0883 - val_acc: 0.9822\n",
      "Epoch 17/20\n",
      "60000/60000 [==============================] - 3s - loss: 0.0064 - acc: 0.9980 - val_loss: 0.0939 - val_acc: 0.9830\n",
      "Epoch 18/20\n",
      "60000/60000 [==============================] - 3s - loss: 0.0085 - acc: 0.9973 - val_loss: 0.0846 - val_acc: 0.9844\n",
      "Epoch 19/20\n",
      "60000/60000 [==============================] - 3s - loss: 0.0066 - acc: 0.9978 - val_loss: 0.0956 - val_acc: 0.9822\n",
      "Epoch 20/20\n",
      "60000/60000 [==============================] - 3s - loss: 0.0088 - acc: 0.9975 - val_loss: 0.1004 - val_acc: 0.9813\n"
     ]
    },
    {
     "data": {
      "image/png": "[encoded data removed]",
      "text/plain": [
       "<matplotlib.figure.Figure at 0x7f08a4082d68>"
      ]
     },
     "metadata": {},
     "output_type": "display_data"
    }
   ],
   "source": [
    "axes, model = fit(model, Xtrain, ytrain, Xtest, ytest, batch_size = batch_size, epochs = nepochs)"
   ]
  },
  {
   "cell_type": "markdown",
   "metadata": {},
   "source": [
    "### Testing"
   ]
  },
  {
   "cell_type": "code",
   "execution_count": 25,
   "metadata": {},
   "outputs": [
    {
     "name": "stdout",
     "output_type": "stream",
     "text": [
      " 9440/10000 [===========================>..] - ETA: 0s"
     ]
    }
   ],
   "source": [
    "score = model.evaluate(Xtest, ytest)"
   ]
  },
  {
   "cell_type": "code",
   "execution_count": 26,
   "metadata": {},
   "outputs": [
    {
     "name": "stdout",
     "output_type": "stream",
     "text": [
      "Accuracy:  98.13\n"
     ]
    }
   ],
   "source": [
    "print('Accuracy: ', score[1] * 100)"
   ]
  },
  {
   "cell_type": "markdown",
   "metadata": {},
   "source": [
    "### Deploy"
   ]
  },
  {
   "cell_type": "code",
   "execution_count": 27,
   "metadata": {},
   "outputs": [],
   "source": [
    "save('mnist', model, config)"
   ]
  }
 ],
 "metadata": {
  "kernelspec": {
   "display_name": "Python 3",
   "language": "python",
   "name": "python3"
  },
  "language_info": {
   "codemirror_mode": {
    "name": "ipython",
    "version": 3
   },
   "file_extension": ".py",
   "mimetype": "text/x-python",
   "name": "python",
   "nbconvert_exporter": "python",
   "pygments_lexer": "ipython3",
   "version": "3.5.2"
  }
 },
 "nbformat": 4,
 "nbformat_minor": 2
}
