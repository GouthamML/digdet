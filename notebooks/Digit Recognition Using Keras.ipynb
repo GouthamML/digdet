{
 "cells": [
  {
   "cell_type": "markdown",
   "metadata": {},
   "source": [
    "### Dependencies"
   ]
  },
  {
   "cell_type": "code",
   "execution_count": null,
   "metadata": {},
   "outputs": [],
   "source": [
    "HAS_CUDA_CUDNN  = input('CUDA and CuDNN installed? (y/n): ') == 'y'\n",
    "\n",
    "DEPENDENCIES    = [\n",
    "    'numpy',\n",
    "    'scipy',\n",
    "    'scikit-learn',\n",
    "    'matplotlib',\n",
    "    'keras',\n",
    "    'tensorflow-gpu' if HAS_CUDA_CUDNN else 'tensorflow',\n",
    "    'h5py'\n",
    "]\n",
    "\n",
    "import pip\n",
    "\n",
    "for dependency in DEPENDENCIES:\n",
    "    pip.main(['install', dependency])"
   ]
  },
  {
   "cell_type": "markdown",
   "metadata": {},
   "source": [
    "# MNIST"
   ]
  },
  {
   "cell_type": "markdown",
   "metadata": {},
   "source": [
    "### Loading"
   ]
  },
  {
   "cell_type": "code",
   "execution_count": 2,
   "metadata": {},
   "outputs": [
    {
     "name": "stderr",
     "output_type": "stream",
     "text": [
      "Using TensorFlow backend.\n"
     ]
    }
   ],
   "source": [
    "from keras.datasets import mnist"
   ]
  },
  {
   "cell_type": "code",
   "execution_count": 3,
   "metadata": {
    "collapsed": true
   },
   "outputs": [],
   "source": [
    "(Xtrain, ytrain), (Xtest, ytest) = mnist.load_data()"
   ]
  },
  {
   "cell_type": "markdown",
   "metadata": {},
   "source": [
    "### Visualization"
   ]
  },
  {
   "cell_type": "code",
   "execution_count": 4,
   "metadata": {},
   "outputs": [],
   "source": [
    "import matplotlib.pyplot as pplt\n",
    "import matplotlib.cm     as cmap\n",
    "\n",
    "% matplotlib inline"
   ]
  },
  {
   "cell_type": "code",
   "execution_count": 5,
   "metadata": {
    "collapsed": true
   },
   "outputs": [],
   "source": [
    "from random import randint"
   ]
  },
  {
   "cell_type": "code",
   "execution_count": 6,
   "metadata": {},
   "outputs": [
    {
     "data": {
      "image/png": "[encoded data removed]",
      "text/plain": [
       "<matplotlib.figure.Figure at 0x7f064a27d9b0>"
      ]
     },
     "metadata": {},
     "output_type": "display_data"
    }
   ],
   "source": [
    "nsamples = len(Xtrain)\n",
    "nplots   = 4\n",
    "\n",
    "for i in range(nplots):\n",
    "    pplt.subplot(220 + (i + 1))\n",
    "    \n",
    "    index  = randint(0, nsamples)\n",
    "    sample = Xtrain[index]\n",
    "        \n",
    "    pplt.imshow(sample, cmap = cmap.gray)"
   ]
  },
  {
   "cell_type": "markdown",
   "metadata": {},
   "source": [
    "### Preprocessing"
   ]
  },
  {
   "cell_type": "code",
   "execution_count": 7,
   "metadata": {
    "collapsed": true
   },
   "outputs": [],
   "source": [
    "import numpy as np"
   ]
  },
  {
   "cell_type": "markdown",
   "metadata": {},
   "source": [
    "#### Flattening"
   ]
  },
  {
   "cell_type": "code",
   "execution_count": 8,
   "metadata": {},
   "outputs": [],
   "source": [
    "def flatten(x, dtype = np.uint8):\n",
    "    nsamples, width, height = x.shape\n",
    "    ncols = width * height\n",
    "    \n",
    "    x     = x.reshape(nsamples, ncols).astype(dtype)\n",
    "    \n",
    "    return x"
   ]
  },
  {
   "cell_type": "code",
   "execution_count": 9,
   "metadata": {
    "collapsed": true
   },
   "outputs": [],
   "source": [
    "Xtrain, Xtest = flatten(Xtrain), flatten(Xtest)"
   ]
  },
  {
   "cell_type": "markdown",
   "metadata": {},
   "source": [
    "#### Scaling"
   ]
  },
  {
   "cell_type": "code",
   "execution_count": 10,
   "metadata": {
    "collapsed": true
   },
   "outputs": [],
   "source": [
    "from sklearn.preprocessing import MinMaxScaler"
   ]
  },
  {
   "cell_type": "code",
   "execution_count": 11,
   "metadata": {
    "collapsed": true
   },
   "outputs": [],
   "source": [
    "scaler        = MinMaxScaler()"
   ]
  },
  {
   "cell_type": "code",
   "execution_count": 12,
   "metadata": {},
   "outputs": [
    {
     "name": "stderr",
     "output_type": "stream",
     "text": [
      "/home/achilles/digdet/.venv/py3/lib/python3.5/site-packages/sklearn/utils/validation.py:429: DataConversionWarning: Data with input dtype uint8 was converted to float64 by MinMaxScaler.\n",
      "  warnings.warn(msg, _DataConversionWarning)\n"
     ]
    }
   ],
   "source": [
    "Xtrain, Xtest = scaler.fit_transform(Xtrain), scaler.fit_transform(Xtest)"
   ]
  },
  {
   "cell_type": "markdown",
   "metadata": {},
   "source": [
    "#### Encoding"
   ]
  },
  {
   "cell_type": "code",
   "execution_count": 13,
   "metadata": {},
   "outputs": [],
   "source": [
    "from keras.utils import np_utils"
   ]
  },
  {
   "cell_type": "code",
   "execution_count": 14,
   "metadata": {
    "scrolled": true
   },
   "outputs": [],
   "source": [
    "ytrain, ytest = np_utils.to_categorical(ytrain), np_utils.to_categorical(ytest)"
   ]
  },
  {
   "cell_type": "markdown",
   "metadata": {},
   "source": [
    "### Modelling"
   ]
  },
  {
   "cell_type": "code",
   "execution_count": 15,
   "metadata": {
    "collapsed": true
   },
   "outputs": [],
   "source": [
    "from keras.models import Sequential\n",
    "from keras.layers import Dense"
   ]
  },
  {
   "cell_type": "code",
   "execution_count": 16,
   "metadata": {},
   "outputs": [
    {
     "data": {
      "text/plain": [
       "(784, 10)"
      ]
     },
     "execution_count": 16,
     "metadata": {},
     "output_type": "execute_result"
    }
   ],
   "source": [
    "ninp   = Xtrain.shape[1]\n",
    "nout   = ytrain.shape[1]\n",
    "config = { \"loss\": \"categorical_crossentropy\", \"optimizer\": \"adam\", \"metrics\": [\"accuracy\"] }\n",
    "\n",
    "ninp, nout"
   ]
  },
  {
   "cell_type": "code",
   "execution_count": 17,
   "metadata": {
    "collapsed": true
   },
   "outputs": [],
   "source": [
    "def get_model():\n",
    "    ninp   = 784\n",
    "    nout   = 10\n",
    "\n",
    "    layers = [512, 512, 10]\n",
    "    config = { \"loss\": \"categorical_crossentropy\", \"optimizer\": \"adam\", \"metrics\": [\"accuracy\"] }\n",
    "    model  = Sequential()\n",
    "    \n",
    "    model.add(Dense(layers[0], input_shape = (ninp,), activation = 'relu', kernel_initializer = 'normal'))\n",
    "    \n",
    "    for i in range(1, len(layers) - 1):\n",
    "        model.add(Dense(layers[i], activation = 'relu'))\n",
    "        \n",
    "    model.add(Dense(layers[-1], activation = 'softmax'))\n",
    "    \n",
    "    model.compile(**config)\n",
    "    \n",
    "    return model"
   ]
  },
  {
   "cell_type": "code",
   "execution_count": 18,
   "metadata": {},
   "outputs": [
    {
     "name": "stdout",
     "output_type": "stream",
     "text": [
      "_________________________________________________________________\n",
      "Layer (type)                 Output Shape              Param #   \n",
      "=================================================================\n",
      "dense_1 (Dense)              (None, 512)               401920    \n",
      "_________________________________________________________________\n",
      "dense_2 (Dense)              (None, 512)               262656    \n",
      "_________________________________________________________________\n",
      "dense_3 (Dense)              (None, 10)                5130      \n",
      "=================================================================\n",
      "Total params: 669,706\n",
      "Trainable params: 669,706\n",
      "Non-trainable params: 0\n",
      "_________________________________________________________________\n"
     ]
    }
   ],
   "source": [
    "model = get_model()\n",
    "model.summary()"
   ]
  },
  {
   "cell_type": "markdown",
   "metadata": {},
   "source": [
    "### Training"
   ]
  },
  {
   "cell_type": "code",
   "execution_count": 19,
   "metadata": {
    "collapsed": true
   },
   "outputs": [],
   "source": [
    "batch_size = 128\n",
    "nepochs    = 20"
   ]
  },
  {
   "cell_type": "code",
   "execution_count": 20,
   "metadata": {},
   "outputs": [
    {
     "name": "stdout",
     "output_type": "stream",
     "text": [
      "Train on 60000 samples, validate on 10000 samples\n",
      "Epoch 1/20\n",
      "3s - loss: 0.2149 - acc: 0.9364 - val_loss: 0.1066 - val_acc: 0.9668\n",
      "Epoch 2/20\n",
      "3s - loss: 0.0799 - acc: 0.9755 - val_loss: 0.0814 - val_acc: 0.9734\n",
      "Epoch 3/20\n",
      "3s - loss: 0.0484 - acc: 0.9845 - val_loss: 0.0820 - val_acc: 0.9758\n",
      "Epoch 4/20\n",
      "3s - loss: 0.0333 - acc: 0.9890 - val_loss: 0.0706 - val_acc: 0.9789\n",
      "Epoch 5/20\n",
      "3s - loss: 0.0265 - acc: 0.9909 - val_loss: 0.0904 - val_acc: 0.9744\n",
      "Epoch 6/20\n",
      "3s - loss: 0.0218 - acc: 0.9927 - val_loss: 0.0975 - val_acc: 0.9709\n",
      "Epoch 7/20\n",
      "3s - loss: 0.0179 - acc: 0.9938 - val_loss: 0.0941 - val_acc: 0.9764\n",
      "Epoch 8/20\n",
      "3s - loss: 0.0177 - acc: 0.9939 - val_loss: 0.0835 - val_acc: 0.9789\n",
      "Epoch 9/20\n",
      "3s - loss: 0.0127 - acc: 0.9959 - val_loss: 0.0846 - val_acc: 0.9796\n",
      "Epoch 10/20\n",
      "3s - loss: 0.0118 - acc: 0.9958 - val_loss: 0.0856 - val_acc: 0.9801\n",
      "Epoch 11/20\n",
      "3s - loss: 0.0120 - acc: 0.9958 - val_loss: 0.0840 - val_acc: 0.9803\n",
      "Epoch 12/20\n",
      "3s - loss: 0.0102 - acc: 0.9967 - val_loss: 0.0791 - val_acc: 0.9821\n",
      "Epoch 13/20\n",
      "3s - loss: 0.0152 - acc: 0.9952 - val_loss: 0.0759 - val_acc: 0.9816\n",
      "Epoch 14/20\n",
      "3s - loss: 0.0099 - acc: 0.9967 - val_loss: 0.0804 - val_acc: 0.9823\n",
      "Epoch 15/20\n",
      "3s - loss: 0.0084 - acc: 0.9972 - val_loss: 0.0948 - val_acc: 0.9793\n",
      "Epoch 16/20\n",
      "3s - loss: 0.0100 - acc: 0.9965 - val_loss: 0.1132 - val_acc: 0.9776\n",
      "Epoch 17/20\n",
      "3s - loss: 0.0084 - acc: 0.9972 - val_loss: 0.1053 - val_acc: 0.9794\n",
      "Epoch 18/20\n",
      "3s - loss: 0.0071 - acc: 0.9980 - val_loss: 0.0931 - val_acc: 0.9824\n",
      "Epoch 19/20\n",
      "3s - loss: 0.0056 - acc: 0.9984 - val_loss: 0.1140 - val_acc: 0.9775\n",
      "Epoch 20/20\n",
      "3s - loss: 0.0079 - acc: 0.9977 - val_loss: 0.0857 - val_acc: 0.9829\n"
     ]
    }
   ],
   "source": [
    "history = model.fit(Xtrain, ytrain,\n",
    "                    batch_size      = batch_size,\n",
    "                    epochs          = nepochs,\n",
    "                    verbose         = 2,\n",
    "                    validation_data = (Xtest, ytest))"
   ]
  },
  {
   "cell_type": "code",
   "execution_count": 21,
   "metadata": {},
   "outputs": [],
   "source": [
    "pplt.style.use('seaborn')"
   ]
  },
  {
   "cell_type": "code",
   "execution_count": 22,
   "metadata": {},
   "outputs": [
    {
     "data": {
      "text/plain": [
       "<matplotlib.legend.Legend at 0x7f06481c5320>"
      ]
     },
     "execution_count": 22,
     "metadata": {},
     "output_type": "execute_result"
    },
    {
     "data": {
      "image/png": "[encoded data removed]",
      "text/plain": [
       "<matplotlib.figure.Figure at 0x7f064a2a4940>"
      ]
     },
     "metadata": {},
     "output_type": "display_data"
    }
   ],
   "source": [
    "pplt.plot(history.history['acc'])\n",
    "pplt.plot(history.history['val_acc'])\n",
    "\n",
    "pplt.xlabel('$epoch$')\n",
    "pplt.ylabel('$accuracy$')\n",
    "\n",
    "pplt.legend(['$train$', '$test$'])"
   ]
  },
  {
   "cell_type": "code",
   "execution_count": 23,
   "metadata": {},
   "outputs": [
    {
     "data": {
      "text/plain": [
       "<matplotlib.legend.Legend at 0x7f0644e18320>"
      ]
     },
     "execution_count": 23,
     "metadata": {},
     "output_type": "execute_result"
    },
    {
     "data": {
      "image/png": "[encoded data removed]",
      "text/plain": [
       "<matplotlib.figure.Figure at 0x7f0644e3ca58>"
      ]
     },
     "metadata": {},
     "output_type": "display_data"
    }
   ],
   "source": [
    "pplt.plot(history.history['loss'])\n",
    "pplt.plot(history.history['val_loss'])\n",
    "\n",
    "pplt.xlabel('$epoch$')\n",
    "pplt.ylabel('$loss$')\n",
    "\n",
    "pplt.legend(['$train$', '$test$'])"
   ]
  },
  {
   "cell_type": "markdown",
   "metadata": {},
   "source": [
    "### Testing"
   ]
  },
  {
   "cell_type": "code",
   "execution_count": 24,
   "metadata": {},
   "outputs": [
    {
     "name": "stdout",
     "output_type": "stream",
     "text": [
      " 9824/10000 [============================>.] - ETA: 0s"
     ]
    }
   ],
   "source": [
    "score = model.evaluate(Xtest, ytest)"
   ]
  },
  {
   "cell_type": "code",
   "execution_count": 25,
   "metadata": {},
   "outputs": [
    {
     "name": "stdout",
     "output_type": "stream",
     "text": [
      "Accuracy:  98.29\n"
     ]
    }
   ],
   "source": [
    "print('Accuracy: ', score[1] * 100)"
   ]
  },
  {
   "cell_type": "markdown",
   "metadata": {},
   "source": [
    "### Saving"
   ]
  },
  {
   "cell_type": "code",
   "execution_count": 26,
   "metadata": {
    "collapsed": true
   },
   "outputs": [],
   "source": [
    "import os, errno\n",
    "\n",
    "RELPATH_DATA   = 'data'\n",
    "RELPATH_MODELS = os.path.join(RELPATH_DATA, 'models')\n",
    "\n",
    "def makedirs(path, ignore_exists = False):\n",
    "    try:\n",
    "        os.makedirs(path)\n",
    "    except OSError as e:\n",
    "        if e.errno == errno.EEXIST:\n",
    "            if not ignore_exists:\n",
    "                raise e\n",
    "        else:\n",
    "            raise e\n",
    "            \n",
    "makedirs(RELPATH_MODELS, ignore_exists = True)"
   ]
  },
  {
   "cell_type": "code",
   "execution_count": 27,
   "metadata": {},
   "outputs": [
    {
     "name": "stdout",
     "output_type": "stream",
     "text": [
      "Directory: mnist\n"
     ]
    }
   ],
   "source": [
    "name = input('Directory: ')"
   ]
  },
  {
   "cell_type": "code",
   "execution_count": 28,
   "metadata": {
    "collapsed": true
   },
   "outputs": [],
   "source": [
    "RELPATH_DIR = os.path.join(RELPATH_MODELS, name)\n",
    "\n",
    "makedirs(RELPATH_DIR, ignore_exists = True)"
   ]
  },
  {
   "cell_type": "code",
   "execution_count": 29,
   "metadata": {
    "collapsed": true
   },
   "outputs": [],
   "source": [
    "import json"
   ]
  },
  {
   "cell_type": "code",
   "execution_count": 30,
   "metadata": {
    "collapsed": true
   },
   "outputs": [],
   "source": [
    "json_ = model.to_json()\n",
    "\n",
    "with open(os.path.join(RELPATH_DIR, 'model.json'), 'w') as f:\n",
    "    f.write(json_)"
   ]
  },
  {
   "cell_type": "code",
   "execution_count": 31,
   "metadata": {
    "collapsed": true
   },
   "outputs": [],
   "source": [
    "model.save_weights(os.path.join(RELPATH_DIR, 'model.h5'))"
   ]
  },
  {
   "cell_type": "code",
   "execution_count": 32,
   "metadata": {},
   "outputs": [],
   "source": [
    "with open(os.path.join(RELPATH_DIR, 'config.json'), 'w') as f:\n",
    "    json.dump(config, f)"
   ]
  }
 ],
 "metadata": {
  "kernelspec": {
   "display_name": "Python 3",
   "language": "python",
   "name": "python3"
  },
  "language_info": {
   "codemirror_mode": {
    "name": "ipython",
    "version": 3
   },
   "file_extension": ".py",
   "mimetype": "text/x-python",
   "name": "python",
   "nbconvert_exporter": "python",
   "pygments_lexer": "ipython3",
   "version": "3.5.2"
  }
 },
 "nbformat": 4,
 "nbformat_minor": 2
}
